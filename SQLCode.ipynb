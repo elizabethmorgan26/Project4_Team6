{
 "cells": [
  {
   "cell_type": "code",
   "execution_count": 40,
   "id": "f44a2744-8c09-427d-9a14-ac1a5ee696c2",
   "metadata": {},
   "outputs": [],
   "source": [
    "# Import dependencies\n",
    "import pandas as pd\n",
    "from sqlalchemy import create_engine\n",
    "import sqlite3"
   ]
  },
  {
   "cell_type": "code",
   "execution_count": 41,
   "id": "2be0ac3a-4936-469d-922a-18aabeed9693",
   "metadata": {},
   "outputs": [],
   "source": [
    "# Create a connection to the SQLite database \n",
    "con = sqlite3.connect('Titanic.sqlite')"
   ]
  },
  {
   "cell_type": "code",
   "execution_count": 42,
   "id": "28ba9843-0515-4053-99d0-6b708706e79e",
   "metadata": {},
   "outputs": [
    {
     "data": {
      "text/plain": [
       "1307"
      ]
     },
     "execution_count": 42,
     "metadata": {},
     "output_type": "execute_result"
    }
   ],
   "source": [
    "# Read the merged and cleaned csv file created during processing\n",
    "pd.read_csv('Resources/Titanic_full_data.csv').to_sql('Titanic_Full',con, if_exists='replace')"
   ]
  },
  {
   "cell_type": "code",
   "execution_count": 43,
   "id": "68114e10-a91d-49e7-9d64-783bd2d889bb",
   "metadata": {},
   "outputs": [],
   "source": [
    "# Create a SQL query and connect with the database\n",
    "query = \"SELECT * FROM Titanic_Full LIMIT 5\"\n",
    "Titanic_query = pd.read_sql(query,con)"
   ]
  },
  {
   "cell_type": "code",
   "execution_count": 44,
   "id": "3a61943d-c78e-4abd-a11a-d124a3ebec23",
   "metadata": {},
   "outputs": [
    {
     "data": {
      "text/html": [
       "<div>\n",
       "<style scoped>\n",
       "    .dataframe tbody tr th:only-of-type {\n",
       "        vertical-align: middle;\n",
       "    }\n",
       "\n",
       "    .dataframe tbody tr th {\n",
       "        vertical-align: top;\n",
       "    }\n",
       "\n",
       "    .dataframe thead th {\n",
       "        text-align: right;\n",
       "    }\n",
       "</style>\n",
       "<table border=\"1\" class=\"dataframe\">\n",
       "  <thead>\n",
       "    <tr style=\"text-align: right;\">\n",
       "      <th></th>\n",
       "      <th>index</th>\n",
       "      <th>Unnamed: 0</th>\n",
       "      <th>Survived</th>\n",
       "      <th>Pclass</th>\n",
       "      <th>Sex</th>\n",
       "      <th>Age</th>\n",
       "      <th>SibSp</th>\n",
       "      <th>Parch</th>\n",
       "      <th>Fare</th>\n",
       "      <th>Embarked</th>\n",
       "      <th>num_related</th>\n",
       "      <th>has_related</th>\n",
       "      <th>has_special_ticket</th>\n",
       "    </tr>\n",
       "  </thead>\n",
       "  <tbody>\n",
       "    <tr>\n",
       "      <th>0</th>\n",
       "      <td>0</td>\n",
       "      <td>0</td>\n",
       "      <td>0</td>\n",
       "      <td>3</td>\n",
       "      <td>male</td>\n",
       "      <td>NaN</td>\n",
       "      <td>0</td>\n",
       "      <td>0</td>\n",
       "      <td>7.8875</td>\n",
       "      <td>S</td>\n",
       "      <td>0</td>\n",
       "      <td>0</td>\n",
       "      <td>0</td>\n",
       "    </tr>\n",
       "    <tr>\n",
       "      <th>1</th>\n",
       "      <td>1</td>\n",
       "      <td>1</td>\n",
       "      <td>1</td>\n",
       "      <td>3</td>\n",
       "      <td>female</td>\n",
       "      <td>16.0</td>\n",
       "      <td>0</td>\n",
       "      <td>0</td>\n",
       "      <td>7.7500</td>\n",
       "      <td>Q</td>\n",
       "      <td>0</td>\n",
       "      <td>0</td>\n",
       "      <td>0</td>\n",
       "    </tr>\n",
       "    <tr>\n",
       "      <th>2</th>\n",
       "      <td>2</td>\n",
       "      <td>2</td>\n",
       "      <td>1</td>\n",
       "      <td>1</td>\n",
       "      <td>female</td>\n",
       "      <td>59.0</td>\n",
       "      <td>2</td>\n",
       "      <td>0</td>\n",
       "      <td>51.4792</td>\n",
       "      <td>S</td>\n",
       "      <td>2</td>\n",
       "      <td>1</td>\n",
       "      <td>0</td>\n",
       "    </tr>\n",
       "    <tr>\n",
       "      <th>3</th>\n",
       "      <td>3</td>\n",
       "      <td>3</td>\n",
       "      <td>0</td>\n",
       "      <td>1</td>\n",
       "      <td>male</td>\n",
       "      <td>55.0</td>\n",
       "      <td>1</td>\n",
       "      <td>0</td>\n",
       "      <td>59.4000</td>\n",
       "      <td>C</td>\n",
       "      <td>1</td>\n",
       "      <td>1</td>\n",
       "      <td>1</td>\n",
       "    </tr>\n",
       "    <tr>\n",
       "      <th>4</th>\n",
       "      <td>4</td>\n",
       "      <td>4</td>\n",
       "      <td>0</td>\n",
       "      <td>1</td>\n",
       "      <td>male</td>\n",
       "      <td>36.0</td>\n",
       "      <td>1</td>\n",
       "      <td>0</td>\n",
       "      <td>78.8500</td>\n",
       "      <td>S</td>\n",
       "      <td>1</td>\n",
       "      <td>1</td>\n",
       "      <td>0</td>\n",
       "    </tr>\n",
       "  </tbody>\n",
       "</table>\n",
       "</div>"
      ],
      "text/plain": [
       "   index  Unnamed: 0  Survived  Pclass     Sex   Age  SibSp  Parch     Fare  \\\n",
       "0      0           0         0       3    male   NaN      0      0   7.8875   \n",
       "1      1           1         1       3  female  16.0      0      0   7.7500   \n",
       "2      2           2         1       1  female  59.0      2      0  51.4792   \n",
       "3      3           3         0       1    male  55.0      1      0  59.4000   \n",
       "4      4           4         0       1    male  36.0      1      0  78.8500   \n",
       "\n",
       "  Embarked  num_related  has_related  has_special_ticket  \n",
       "0        S            0            0                   0  \n",
       "1        Q            0            0                   0  \n",
       "2        S            2            1                   0  \n",
       "3        C            1            1                   1  \n",
       "4        S            1            1                   0  "
      ]
     },
     "execution_count": 44,
     "metadata": {},
     "output_type": "execute_result"
    }
   ],
   "source": [
    "# Display the query as a database\n",
    "Titanic_query"
   ]
  },
  {
   "cell_type": "code",
   "execution_count": 45,
   "id": "fd1a658c-9cdb-4dea-b14b-7a1919437059",
   "metadata": {},
   "outputs": [],
   "source": [
    "# Close the connection\n",
    "con.close()"
   ]
  }
 ],
 "metadata": {
  "kernelspec": {
   "display_name": "Python 3 (ipykernel)",
   "language": "python",
   "name": "python3"
  },
  "language_info": {
   "codemirror_mode": {
    "name": "ipython",
    "version": 3
   },
   "file_extension": ".py",
   "mimetype": "text/x-python",
   "name": "python",
   "nbconvert_exporter": "python",
   "pygments_lexer": "ipython3",
   "version": "3.11.9"
  }
 },
 "nbformat": 4,
 "nbformat_minor": 5
}
