{
  "cells": [
    {
      "cell_type": "code",
      "execution_count": 91,
      "id": "124e8bce-6180-4e19-8578-e07addb6e1c2",
      "metadata": {
        "id": "124e8bce-6180-4e19-8578-e07addb6e1c2",
        "tags": []
      },
      "outputs": [],
      "source": [
        "import pandas as pd\n",
        "import numpy as np\n",
        "from pathlib import Path\n",
        "import re\n",
        "import random\n",
        "import tensorflow as tf\n",
        "from sklearn.preprocessing import StandardScaler\n",
        "from sklearn.model_selection import train_test_split\n",
        "from sklearn.linear_model import LogisticRegression\n",
        "from sklearn.metrics import confusion_matrix, classification_report\n",
        "\n",
        "# Turn off warning messages\n",
        "import warnings\n",
        "warnings.filterwarnings(\"ignore\")"
      ]
    },
    {
      "cell_type": "code",
      "source": [
        "# install potential dependencies\n",
        "%pip install catboost"
      ],
      "metadata": {
        "colab": {
          "base_uri": "https://localhost:8080/"
        },
        "id": "EnoSck-EZVa-",
        "outputId": "70cd3997-e32d-420f-9a62-57d517758b4c"
      },
      "id": "EnoSck-EZVa-",
      "execution_count": 92,
      "outputs": [
        {
          "output_type": "stream",
          "name": "stdout",
          "text": [
            "Requirement already satisfied: catboost in /usr/local/lib/python3.10/dist-packages (1.2.5)\n",
            "Requirement already satisfied: graphviz in /usr/local/lib/python3.10/dist-packages (from catboost) (0.20.3)\n",
            "Requirement already satisfied: matplotlib in /usr/local/lib/python3.10/dist-packages (from catboost) (3.7.1)\n",
            "Requirement already satisfied: numpy>=1.16.0 in /usr/local/lib/python3.10/dist-packages (from catboost) (1.25.2)\n",
            "Requirement already satisfied: pandas>=0.24 in /usr/local/lib/python3.10/dist-packages (from catboost) (2.0.3)\n",
            "Requirement already satisfied: scipy in /usr/local/lib/python3.10/dist-packages (from catboost) (1.11.4)\n",
            "Requirement already satisfied: plotly in /usr/local/lib/python3.10/dist-packages (from catboost) (5.15.0)\n",
            "Requirement already satisfied: six in /usr/local/lib/python3.10/dist-packages (from catboost) (1.16.0)\n",
            "Requirement already satisfied: python-dateutil>=2.8.2 in /usr/local/lib/python3.10/dist-packages (from pandas>=0.24->catboost) (2.8.2)\n",
            "Requirement already satisfied: pytz>=2020.1 in /usr/local/lib/python3.10/dist-packages (from pandas>=0.24->catboost) (2023.4)\n",
            "Requirement already satisfied: tzdata>=2022.1 in /usr/local/lib/python3.10/dist-packages (from pandas>=0.24->catboost) (2024.1)\n",
            "Requirement already satisfied: contourpy>=1.0.1 in /usr/local/lib/python3.10/dist-packages (from matplotlib->catboost) (1.2.1)\n",
            "Requirement already satisfied: cycler>=0.10 in /usr/local/lib/python3.10/dist-packages (from matplotlib->catboost) (0.12.1)\n",
            "Requirement already satisfied: fonttools>=4.22.0 in /usr/local/lib/python3.10/dist-packages (from matplotlib->catboost) (4.51.0)\n",
            "Requirement already satisfied: kiwisolver>=1.0.1 in /usr/local/lib/python3.10/dist-packages (from matplotlib->catboost) (1.4.5)\n",
            "Requirement already satisfied: packaging>=20.0 in /usr/local/lib/python3.10/dist-packages (from matplotlib->catboost) (24.0)\n",
            "Requirement already satisfied: pillow>=6.2.0 in /usr/local/lib/python3.10/dist-packages (from matplotlib->catboost) (9.4.0)\n",
            "Requirement already satisfied: pyparsing>=2.3.1 in /usr/local/lib/python3.10/dist-packages (from matplotlib->catboost) (3.1.2)\n",
            "Requirement already satisfied: tenacity>=6.2.0 in /usr/local/lib/python3.10/dist-packages (from plotly->catboost) (8.3.0)\n"
          ]
        }
      ]
    },
    {
      "cell_type": "code",
      "source": [
        "# import full dataset\n",
        "full_set = pd.read_csv(Path(\"./Resources/Titanic_full_dataset.csv\"))\n",
        "full_set.head(2)"
      ],
      "metadata": {
        "colab": {
          "base_uri": "https://localhost:8080/",
          "height": 253
        },
        "id": "6lW9Oid9XY4h",
        "outputId": "89977665-2ed9-40c9-b220-b95015614983"
      },
      "id": "6lW9Oid9XY4h",
      "execution_count": 93,
      "outputs": [
        {
          "output_type": "execute_result",
          "data": {
            "text/plain": [
              "   Unnamed: 0  PassengerId  Survived  Pclass                             Name  \\\n",
              "0           0          316         1       3  Nilsson, Miss. Helmina Josefina   \n",
              "1           1          707         1       2    Kelly, Mrs. Florence \"Fannie\"   \n",
              "\n",
              "      Sex   Age  SibSp  Parch     Fare Cabin Embarked  num_related  \\\n",
              "0  female  26.0      0      0   7.8542   NaN        S            0   \n",
              "1  female  45.0      0      0  13.5000   NaN        S            0   \n",
              "\n",
              "   has_related  has_special_ticket  \n",
              "0        False               False  \n",
              "1        False               False  "
            ],
            "text/html": [
              "\n",
              "  <div id=\"df-23ecccd1-cacd-49c1-b648-e77ed0a369bf\" class=\"colab-df-container\">\n",
              "    <div>\n",
              "<style scoped>\n",
              "    .dataframe tbody tr th:only-of-type {\n",
              "        vertical-align: middle;\n",
              "    }\n",
              "\n",
              "    .dataframe tbody tr th {\n",
              "        vertical-align: top;\n",
              "    }\n",
              "\n",
              "    .dataframe thead th {\n",
              "        text-align: right;\n",
              "    }\n",
              "</style>\n",
              "<table border=\"1\" class=\"dataframe\">\n",
              "  <thead>\n",
              "    <tr style=\"text-align: right;\">\n",
              "      <th></th>\n",
              "      <th>Unnamed: 0</th>\n",
              "      <th>PassengerId</th>\n",
              "      <th>Survived</th>\n",
              "      <th>Pclass</th>\n",
              "      <th>Name</th>\n",
              "      <th>Sex</th>\n",
              "      <th>Age</th>\n",
              "      <th>SibSp</th>\n",
              "      <th>Parch</th>\n",
              "      <th>Fare</th>\n",
              "      <th>Cabin</th>\n",
              "      <th>Embarked</th>\n",
              "      <th>num_related</th>\n",
              "      <th>has_related</th>\n",
              "      <th>has_special_ticket</th>\n",
              "    </tr>\n",
              "  </thead>\n",
              "  <tbody>\n",
              "    <tr>\n",
              "      <th>0</th>\n",
              "      <td>0</td>\n",
              "      <td>316</td>\n",
              "      <td>1</td>\n",
              "      <td>3</td>\n",
              "      <td>Nilsson, Miss. Helmina Josefina</td>\n",
              "      <td>female</td>\n",
              "      <td>26.0</td>\n",
              "      <td>0</td>\n",
              "      <td>0</td>\n",
              "      <td>7.8542</td>\n",
              "      <td>NaN</td>\n",
              "      <td>S</td>\n",
              "      <td>0</td>\n",
              "      <td>False</td>\n",
              "      <td>False</td>\n",
              "    </tr>\n",
              "    <tr>\n",
              "      <th>1</th>\n",
              "      <td>1</td>\n",
              "      <td>707</td>\n",
              "      <td>1</td>\n",
              "      <td>2</td>\n",
              "      <td>Kelly, Mrs. Florence \"Fannie\"</td>\n",
              "      <td>female</td>\n",
              "      <td>45.0</td>\n",
              "      <td>0</td>\n",
              "      <td>0</td>\n",
              "      <td>13.5000</td>\n",
              "      <td>NaN</td>\n",
              "      <td>S</td>\n",
              "      <td>0</td>\n",
              "      <td>False</td>\n",
              "      <td>False</td>\n",
              "    </tr>\n",
              "  </tbody>\n",
              "</table>\n",
              "</div>\n",
              "    <div class=\"colab-df-buttons\">\n",
              "\n",
              "  <div class=\"colab-df-container\">\n",
              "    <button class=\"colab-df-convert\" onclick=\"convertToInteractive('df-23ecccd1-cacd-49c1-b648-e77ed0a369bf')\"\n",
              "            title=\"Convert this dataframe to an interactive table.\"\n",
              "            style=\"display:none;\">\n",
              "\n",
              "  <svg xmlns=\"http://www.w3.org/2000/svg\" height=\"24px\" viewBox=\"0 -960 960 960\">\n",
              "    <path d=\"M120-120v-720h720v720H120Zm60-500h600v-160H180v160Zm220 220h160v-160H400v160Zm0 220h160v-160H400v160ZM180-400h160v-160H180v160Zm440 0h160v-160H620v160ZM180-180h160v-160H180v160Zm440 0h160v-160H620v160Z\"/>\n",
              "  </svg>\n",
              "    </button>\n",
              "\n",
              "  <style>\n",
              "    .colab-df-container {\n",
              "      display:flex;\n",
              "      gap: 12px;\n",
              "    }\n",
              "\n",
              "    .colab-df-convert {\n",
              "      background-color: #E8F0FE;\n",
              "      border: none;\n",
              "      border-radius: 50%;\n",
              "      cursor: pointer;\n",
              "      display: none;\n",
              "      fill: #1967D2;\n",
              "      height: 32px;\n",
              "      padding: 0 0 0 0;\n",
              "      width: 32px;\n",
              "    }\n",
              "\n",
              "    .colab-df-convert:hover {\n",
              "      background-color: #E2EBFA;\n",
              "      box-shadow: 0px 1px 2px rgba(60, 64, 67, 0.3), 0px 1px 3px 1px rgba(60, 64, 67, 0.15);\n",
              "      fill: #174EA6;\n",
              "    }\n",
              "\n",
              "    .colab-df-buttons div {\n",
              "      margin-bottom: 4px;\n",
              "    }\n",
              "\n",
              "    [theme=dark] .colab-df-convert {\n",
              "      background-color: #3B4455;\n",
              "      fill: #D2E3FC;\n",
              "    }\n",
              "\n",
              "    [theme=dark] .colab-df-convert:hover {\n",
              "      background-color: #434B5C;\n",
              "      box-shadow: 0px 1px 3px 1px rgba(0, 0, 0, 0.15);\n",
              "      filter: drop-shadow(0px 1px 2px rgba(0, 0, 0, 0.3));\n",
              "      fill: #FFFFFF;\n",
              "    }\n",
              "  </style>\n",
              "\n",
              "    <script>\n",
              "      const buttonEl =\n",
              "        document.querySelector('#df-23ecccd1-cacd-49c1-b648-e77ed0a369bf button.colab-df-convert');\n",
              "      buttonEl.style.display =\n",
              "        google.colab.kernel.accessAllowed ? 'block' : 'none';\n",
              "\n",
              "      async function convertToInteractive(key) {\n",
              "        const element = document.querySelector('#df-23ecccd1-cacd-49c1-b648-e77ed0a369bf');\n",
              "        const dataTable =\n",
              "          await google.colab.kernel.invokeFunction('convertToInteractive',\n",
              "                                                    [key], {});\n",
              "        if (!dataTable) return;\n",
              "\n",
              "        const docLinkHtml = 'Like what you see? Visit the ' +\n",
              "          '<a target=\"_blank\" href=https://colab.research.google.com/notebooks/data_table.ipynb>data table notebook</a>'\n",
              "          + ' to learn more about interactive tables.';\n",
              "        element.innerHTML = '';\n",
              "        dataTable['output_type'] = 'display_data';\n",
              "        await google.colab.output.renderOutput(dataTable, element);\n",
              "        const docLink = document.createElement('div');\n",
              "        docLink.innerHTML = docLinkHtml;\n",
              "        element.appendChild(docLink);\n",
              "      }\n",
              "    </script>\n",
              "  </div>\n",
              "\n",
              "\n",
              "<div id=\"df-f4b49add-a9d9-47c5-a3ca-17f4cf683739\">\n",
              "  <button class=\"colab-df-quickchart\" onclick=\"quickchart('df-f4b49add-a9d9-47c5-a3ca-17f4cf683739')\"\n",
              "            title=\"Suggest charts\"\n",
              "            style=\"display:none;\">\n",
              "\n",
              "<svg xmlns=\"http://www.w3.org/2000/svg\" height=\"24px\"viewBox=\"0 0 24 24\"\n",
              "     width=\"24px\">\n",
              "    <g>\n",
              "        <path d=\"M19 3H5c-1.1 0-2 .9-2 2v14c0 1.1.9 2 2 2h14c1.1 0 2-.9 2-2V5c0-1.1-.9-2-2-2zM9 17H7v-7h2v7zm4 0h-2V7h2v10zm4 0h-2v-4h2v4z\"/>\n",
              "    </g>\n",
              "</svg>\n",
              "  </button>\n",
              "\n",
              "<style>\n",
              "  .colab-df-quickchart {\n",
              "      --bg-color: #E8F0FE;\n",
              "      --fill-color: #1967D2;\n",
              "      --hover-bg-color: #E2EBFA;\n",
              "      --hover-fill-color: #174EA6;\n",
              "      --disabled-fill-color: #AAA;\n",
              "      --disabled-bg-color: #DDD;\n",
              "  }\n",
              "\n",
              "  [theme=dark] .colab-df-quickchart {\n",
              "      --bg-color: #3B4455;\n",
              "      --fill-color: #D2E3FC;\n",
              "      --hover-bg-color: #434B5C;\n",
              "      --hover-fill-color: #FFFFFF;\n",
              "      --disabled-bg-color: #3B4455;\n",
              "      --disabled-fill-color: #666;\n",
              "  }\n",
              "\n",
              "  .colab-df-quickchart {\n",
              "    background-color: var(--bg-color);\n",
              "    border: none;\n",
              "    border-radius: 50%;\n",
              "    cursor: pointer;\n",
              "    display: none;\n",
              "    fill: var(--fill-color);\n",
              "    height: 32px;\n",
              "    padding: 0;\n",
              "    width: 32px;\n",
              "  }\n",
              "\n",
              "  .colab-df-quickchart:hover {\n",
              "    background-color: var(--hover-bg-color);\n",
              "    box-shadow: 0 1px 2px rgba(60, 64, 67, 0.3), 0 1px 3px 1px rgba(60, 64, 67, 0.15);\n",
              "    fill: var(--button-hover-fill-color);\n",
              "  }\n",
              "\n",
              "  .colab-df-quickchart-complete:disabled,\n",
              "  .colab-df-quickchart-complete:disabled:hover {\n",
              "    background-color: var(--disabled-bg-color);\n",
              "    fill: var(--disabled-fill-color);\n",
              "    box-shadow: none;\n",
              "  }\n",
              "\n",
              "  .colab-df-spinner {\n",
              "    border: 2px solid var(--fill-color);\n",
              "    border-color: transparent;\n",
              "    border-bottom-color: var(--fill-color);\n",
              "    animation:\n",
              "      spin 1s steps(1) infinite;\n",
              "  }\n",
              "\n",
              "  @keyframes spin {\n",
              "    0% {\n",
              "      border-color: transparent;\n",
              "      border-bottom-color: var(--fill-color);\n",
              "      border-left-color: var(--fill-color);\n",
              "    }\n",
              "    20% {\n",
              "      border-color: transparent;\n",
              "      border-left-color: var(--fill-color);\n",
              "      border-top-color: var(--fill-color);\n",
              "    }\n",
              "    30% {\n",
              "      border-color: transparent;\n",
              "      border-left-color: var(--fill-color);\n",
              "      border-top-color: var(--fill-color);\n",
              "      border-right-color: var(--fill-color);\n",
              "    }\n",
              "    40% {\n",
              "      border-color: transparent;\n",
              "      border-right-color: var(--fill-color);\n",
              "      border-top-color: var(--fill-color);\n",
              "    }\n",
              "    60% {\n",
              "      border-color: transparent;\n",
              "      border-right-color: var(--fill-color);\n",
              "    }\n",
              "    80% {\n",
              "      border-color: transparent;\n",
              "      border-right-color: var(--fill-color);\n",
              "      border-bottom-color: var(--fill-color);\n",
              "    }\n",
              "    90% {\n",
              "      border-color: transparent;\n",
              "      border-bottom-color: var(--fill-color);\n",
              "    }\n",
              "  }\n",
              "</style>\n",
              "\n",
              "  <script>\n",
              "    async function quickchart(key) {\n",
              "      const quickchartButtonEl =\n",
              "        document.querySelector('#' + key + ' button');\n",
              "      quickchartButtonEl.disabled = true;  // To prevent multiple clicks.\n",
              "      quickchartButtonEl.classList.add('colab-df-spinner');\n",
              "      try {\n",
              "        const charts = await google.colab.kernel.invokeFunction(\n",
              "            'suggestCharts', [key], {});\n",
              "      } catch (error) {\n",
              "        console.error('Error during call to suggestCharts:', error);\n",
              "      }\n",
              "      quickchartButtonEl.classList.remove('colab-df-spinner');\n",
              "      quickchartButtonEl.classList.add('colab-df-quickchart-complete');\n",
              "    }\n",
              "    (() => {\n",
              "      let quickchartButtonEl =\n",
              "        document.querySelector('#df-f4b49add-a9d9-47c5-a3ca-17f4cf683739 button');\n",
              "      quickchartButtonEl.style.display =\n",
              "        google.colab.kernel.accessAllowed ? 'block' : 'none';\n",
              "    })();\n",
              "  </script>\n",
              "</div>\n",
              "\n",
              "    </div>\n",
              "  </div>\n"
            ],
            "application/vnd.google.colaboratory.intrinsic+json": {
              "type": "dataframe",
              "variable_name": "full_set",
              "summary": "{\n  \"name\": \"full_set\",\n  \"rows\": 1306,\n  \"fields\": [\n    {\n      \"column\": \"Unnamed: 0\",\n      \"properties\": {\n        \"dtype\": \"number\",\n        \"std\": 377,\n        \"min\": 0,\n        \"max\": 1305,\n        \"num_unique_values\": 1306,\n        \"samples\": [\n          1173,\n          514,\n          844\n        ],\n        \"semantic_type\": \"\",\n        \"description\": \"\"\n      }\n    },\n    {\n      \"column\": \"PassengerId\",\n      \"properties\": {\n        \"dtype\": \"number\",\n        \"std\": 377,\n        \"min\": 1,\n        \"max\": 1309,\n        \"num_unique_values\": 1306,\n        \"samples\": [\n          1225,\n          77,\n          917\n        ],\n        \"semantic_type\": \"\",\n        \"description\": \"\"\n      }\n    },\n    {\n      \"column\": \"Survived\",\n      \"properties\": {\n        \"dtype\": \"number\",\n        \"std\": 0,\n        \"min\": 0,\n        \"max\": 1,\n        \"num_unique_values\": 2,\n        \"samples\": [\n          0,\n          1\n        ],\n        \"semantic_type\": \"\",\n        \"description\": \"\"\n      }\n    },\n    {\n      \"column\": \"Pclass\",\n      \"properties\": {\n        \"dtype\": \"number\",\n        \"std\": 0,\n        \"min\": 1,\n        \"max\": 3,\n        \"num_unique_values\": 3,\n        \"samples\": [\n          3,\n          2\n        ],\n        \"semantic_type\": \"\",\n        \"description\": \"\"\n      }\n    },\n    {\n      \"column\": \"Name\",\n      \"properties\": {\n        \"dtype\": \"string\",\n        \"num_unique_values\": 1304,\n        \"samples\": [\n          \"Klasen, Mrs. (Hulda Kristina Eugenia Lofqvist)\",\n          \"Najib, Miss. Adele Kiamie \\\"Jane\\\"\"\n        ],\n        \"semantic_type\": \"\",\n        \"description\": \"\"\n      }\n    },\n    {\n      \"column\": \"Sex\",\n      \"properties\": {\n        \"dtype\": \"category\",\n        \"num_unique_values\": 2,\n        \"samples\": [\n          \"male\",\n          \"female\"\n        ],\n        \"semantic_type\": \"\",\n        \"description\": \"\"\n      }\n    },\n    {\n      \"column\": \"Age\",\n      \"properties\": {\n        \"dtype\": \"number\",\n        \"std\": 14.130204141786374,\n        \"min\": 0.17,\n        \"max\": 80.0,\n        \"num_unique_values\": 97,\n        \"samples\": [\n          18.5,\n          8.0\n        ],\n        \"semantic_type\": \"\",\n        \"description\": \"\"\n      }\n    },\n    {\n      \"column\": \"SibSp\",\n      \"properties\": {\n        \"dtype\": \"number\",\n        \"std\": 1,\n        \"min\": 0,\n        \"max\": 8,\n        \"num_unique_values\": 7,\n        \"samples\": [\n          0,\n          1\n        ],\n        \"semantic_type\": \"\",\n        \"description\": \"\"\n      }\n    },\n    {\n      \"column\": \"Parch\",\n      \"properties\": {\n        \"dtype\": \"number\",\n        \"std\": 0,\n        \"min\": 0,\n        \"max\": 9,\n        \"num_unique_values\": 8,\n        \"samples\": [\n          2,\n          6\n        ],\n        \"semantic_type\": \"\",\n        \"description\": \"\"\n      }\n    },\n    {\n      \"column\": \"Fare\",\n      \"properties\": {\n        \"dtype\": \"number\",\n        \"std\": 51.76598590355328,\n        \"min\": 0.0,\n        \"max\": 512.3292,\n        \"num_unique_values\": 280,\n        \"samples\": [\n          7.05,\n          29.0\n        ],\n        \"semantic_type\": \"\",\n        \"description\": \"\"\n      }\n    },\n    {\n      \"column\": \"Cabin\",\n      \"properties\": {\n        \"dtype\": \"category\",\n        \"num_unique_values\": 185,\n        \"samples\": [\n          \"D10 D12\",\n          \"C78\"\n        ],\n        \"semantic_type\": \"\",\n        \"description\": \"\"\n      }\n    },\n    {\n      \"column\": \"Embarked\",\n      \"properties\": {\n        \"dtype\": \"category\",\n        \"num_unique_values\": 3,\n        \"samples\": [\n          \"S\",\n          \"C\"\n        ],\n        \"semantic_type\": \"\",\n        \"description\": \"\"\n      }\n    },\n    {\n      \"column\": \"num_related\",\n      \"properties\": {\n        \"dtype\": \"number\",\n        \"std\": 1,\n        \"min\": 0,\n        \"max\": 10,\n        \"num_unique_values\": 9,\n        \"samples\": [\n          5,\n          1\n        ],\n        \"semantic_type\": \"\",\n        \"description\": \"\"\n      }\n    },\n    {\n      \"column\": \"has_related\",\n      \"properties\": {\n        \"dtype\": \"boolean\",\n        \"num_unique_values\": 2,\n        \"samples\": [\n          true,\n          false\n        ],\n        \"semantic_type\": \"\",\n        \"description\": \"\"\n      }\n    },\n    {\n      \"column\": \"has_special_ticket\",\n      \"properties\": {\n        \"dtype\": \"boolean\",\n        \"num_unique_values\": 2,\n        \"samples\": [\n          true,\n          false\n        ],\n        \"semantic_type\": \"\",\n        \"description\": \"\"\n      }\n    }\n  ]\n}"
            }
          },
          "metadata": {},
          "execution_count": 93
        }
      ]
    },
    {
      "cell_type": "code",
      "source": [
        "# generic model evaluation method\n",
        "def ModelEvaluation(model, X_train, y_train, X_test, y_test):\n",
        "    # fit the model and predict on test and train datasets\n",
        "    fitted = model.fit(X_train, y_train)\n",
        "    train_predict = fitted.predict(X_train)\n",
        "    test_predict = fitted.predict(X_test)\n",
        "\n",
        "    # output performance reports\n",
        "    print(\"Training Classification Report:\")\n",
        "    print(classification_report(y_train, train_predict))\n",
        "\n",
        "    print(\"Testing Classification Report:\")\n",
        "    print(classification_report(y_test, test_predict))\n",
        "\n",
        "# this will take a single full titanic-related dataset and\n",
        "# create scaled train and test sets; a specific subset of columns\n",
        "# can be specified to reduce the features; an alternate target column\n",
        "# can be specified for further\n",
        "def FormatTitanicData(data_frame, dummies, target='Survived', columns = []):\n",
        "    # if not the default, get a subset of all columns\n",
        "    if columns != []:\n",
        "        curr_frame = data_frame[columns]\n",
        "        # if a column is not in the passed set, do not dummy it\n",
        "        dummies = [c for c in dummies if c in columns]\n",
        "    else:\n",
        "        curr_frame = data_frame\n",
        "\n",
        "    # split target out from data\n",
        "    X = curr_frame.drop(target, axis=1)\n",
        "    y = curr_frame[target]\n",
        "\n",
        "    # split into train and test sets\n",
        "    X_train, X_test, y_train, y_test = train_test_split(X, y, random_state=1)\n",
        "\n",
        "    # dummy categorical columns\n",
        "    dummy_train = pd.get_dummies(X_train, columns=dummies)\n",
        "    dummy_test = pd.get_dummies(X_test, columns=dummies)\n",
        "\n",
        "    # d_train_cols = dummy_train.columns.to_list()\n",
        "    # d_test_cols = dummy_test.columns.to_list()\n",
        "    # if d_train_cols != d_test_cols\n",
        "\n",
        "    # print(dummy_train.head(), dummy_test.head())\n",
        "\n",
        "    # scale columns\n",
        "    scaler = StandardScaler()\n",
        "    train_scaler = scaler.fit(dummy_train)\n",
        "    train_scaled = train_scaler.transform(dummy_train)\n",
        "    test_scaler = scaler.fit(dummy_test)\n",
        "    test_scaled = test_scaler.transform(dummy_test)\n",
        "\n",
        "    return train_scaled, y_train, test_scaled, y_test\n",
        "\n",
        "# general cleanup method to work with new format of full_set\n",
        "def FinishCleanup(data_frame):\n",
        "    data_frame.drop('Name', inplace=True, axis=1)\n",
        "    data_frame.drop('PassengerId', inplace=True, axis=1)\n",
        "    data_frame.drop('Cabin', inplace=True, axis=1)"
      ],
      "metadata": {
        "id": "dMar27jrXqlc"
      },
      "id": "dMar27jrXqlc",
      "execution_count": 94,
      "outputs": []
    },
    {
      "cell_type": "code",
      "source": [
        "# create train/test sets from full dataset\n",
        "FinishCleanup(full_set)\n",
        "dummies = ['Pclass', 'Embarked', 'Sex']\n",
        "full_train_scaled, y_train, full_test_scaled, y_test = FormatTitanicData(full_set, dummies)"
      ],
      "metadata": {
        "id": "poXxjjkkYEUX"
      },
      "id": "poXxjjkkYEUX",
      "execution_count": 95,
      "outputs": []
    },
    {
      "cell_type": "code",
      "execution_count": 96,
      "id": "-Zakm5yGCN8Z",
      "metadata": {
        "id": "-Zakm5yGCN8Z"
      },
      "outputs": [],
      "source": [
        "# create a Logistic Regression Model\n",
        "lr_classifier = LogisticRegression(random_state = 1)\n",
        "\n",
        "# fit the Logistic Regression Model\n",
        "lr_model = lr_classifier.fit(full_train_scaled,y_train)"
      ]
    },
    {
      "cell_type": "code",
      "execution_count": 97,
      "id": "ZWoFkdPjDbts",
      "metadata": {
        "id": "ZWoFkdPjDbts"
      },
      "outputs": [],
      "source": [
        "# Make predictons using the scaled data\n",
        "lr_training_prediction = lr_model.predict(full_train_scaled)\n",
        "lr_testing_prediction = lr_classifier.predict(full_test_scaled)"
      ]
    },
    {
      "cell_type": "code",
      "execution_count": 98,
      "id": "p6E_X_oURnEz",
      "metadata": {
        "colab": {
          "base_uri": "https://localhost:8080/"
        },
        "id": "p6E_X_oURnEz",
        "outputId": "65d03620-7feb-4222-f634-2cba8306846e"
      },
      "outputs": [
        {
          "output_type": "stream",
          "name": "stdout",
          "text": [
            "Confusion Matrix for training data\n",
            "[[541  55]\n",
            " [ 81 302]]\n",
            "Confusion Matrix for testing data\n",
            "[[193  25]\n",
            " [ 29  80]]\n"
          ]
        }
      ],
      "source": [
        "print(\"Confusion Matrix for training data\")\n",
        "print(confusion_matrix(y_train,lr_training_prediction))\n",
        "\n",
        "print(\"Confusion Matrix for testing data\")\n",
        "print(confusion_matrix(y_test,lr_testing_prediction))"
      ]
    },
    {
      "cell_type": "code",
      "execution_count": 99,
      "id": "F6aR-b20RZ37",
      "metadata": {
        "colab": {
          "base_uri": "https://localhost:8080/"
        },
        "id": "F6aR-b20RZ37",
        "outputId": "8aa2713d-7436-45e4-813e-fedbd2f9d2c3"
      },
      "outputs": [
        {
          "output_type": "stream",
          "name": "stdout",
          "text": [
            "              precision    recall  f1-score   support\n",
            "\n",
            "           0       0.87      0.91      0.89       596\n",
            "           1       0.85      0.79      0.82       383\n",
            "\n",
            "    accuracy                           0.86       979\n",
            "   macro avg       0.86      0.85      0.85       979\n",
            "weighted avg       0.86      0.86      0.86       979\n",
            "\n"
          ]
        }
      ],
      "source": [
        "print(classification_report(y_train,lr_training_prediction))"
      ]
    },
    {
      "cell_type": "code",
      "execution_count": 100,
      "id": "lAWj1NhcRBC8",
      "metadata": {
        "colab": {
          "base_uri": "https://localhost:8080/"
        },
        "id": "lAWj1NhcRBC8",
        "outputId": "60f9e837-a3b1-41cd-ab42-7c170423ffd2"
      },
      "outputs": [
        {
          "output_type": "stream",
          "name": "stdout",
          "text": [
            "              precision    recall  f1-score   support\n",
            "\n",
            "           0       0.87      0.89      0.88       218\n",
            "           1       0.76      0.73      0.75       109\n",
            "\n",
            "    accuracy                           0.83       327\n",
            "   macro avg       0.82      0.81      0.81       327\n",
            "weighted avg       0.83      0.83      0.83       327\n",
            "\n"
          ]
        }
      ],
      "source": [
        "print(classification_report(y_test,lr_testing_prediction))"
      ]
    },
    {
      "cell_type": "markdown",
      "id": "iPXvlsglRBn5",
      "metadata": {
        "id": "iPXvlsglRBn5"
      },
      "source": [
        "**K Nearest Neighbors Classifier**"
      ]
    },
    {
      "cell_type": "code",
      "execution_count": 101,
      "id": "lhISo09oCOFM",
      "metadata": {
        "id": "lhISo09oCOFM"
      },
      "outputs": [],
      "source": [
        "from sklearn.neighbors import KNeighborsClassifier\n",
        "# create a K Nearest Neighbors Classifier Model\n",
        "knn = KNeighborsClassifier(n_neighbors=5)\n",
        "knn_model = knn.fit(full_train_scaled,y_train)"
      ]
    },
    {
      "cell_type": "code",
      "execution_count": 102,
      "id": "aBQxBPvmCOJ7",
      "metadata": {
        "id": "aBQxBPvmCOJ7"
      },
      "outputs": [],
      "source": [
        "# Make predictions\n",
        "knn_training_prediction = knn_model.predict(full_train_scaled)\n",
        "knn_testing_prediction = knn.predict(full_test_scaled)"
      ]
    },
    {
      "cell_type": "code",
      "execution_count": 103,
      "id": "noXhrQfHRjIZ",
      "metadata": {
        "colab": {
          "base_uri": "https://localhost:8080/"
        },
        "id": "noXhrQfHRjIZ",
        "outputId": "e61eb783-e4bc-4275-ed1a-5e55780fdd8c"
      },
      "outputs": [
        {
          "output_type": "stream",
          "name": "stdout",
          "text": [
            "Training Classification Report:\n",
            "              precision    recall  f1-score   support\n",
            "\n",
            "           0       0.89      0.92      0.91       596\n",
            "           1       0.87      0.83      0.85       383\n",
            "\n",
            "    accuracy                           0.88       979\n",
            "   macro avg       0.88      0.87      0.88       979\n",
            "weighted avg       0.88      0.88      0.88       979\n",
            "\n"
          ]
        }
      ],
      "source": [
        "print(\"Training Classification Report:\")\n",
        "print(classification_report(y_train,knn_training_prediction))"
      ]
    },
    {
      "cell_type": "code",
      "execution_count": 104,
      "id": "lSzQ0cyMPoxn",
      "metadata": {
        "colab": {
          "base_uri": "https://localhost:8080/"
        },
        "id": "lSzQ0cyMPoxn",
        "outputId": "0958bc0f-4aec-4811-ecc2-6a3e8676b635"
      },
      "outputs": [
        {
          "output_type": "stream",
          "name": "stdout",
          "text": [
            "Testing Classification Report:\n",
            "              precision    recall  f1-score   support\n",
            "\n",
            "           0       0.86      0.90      0.88       218\n",
            "           1       0.78      0.71      0.74       109\n",
            "\n",
            "    accuracy                           0.83       327\n",
            "   macro avg       0.82      0.80      0.81       327\n",
            "weighted avg       0.83      0.83      0.83       327\n",
            "\n"
          ]
        }
      ],
      "source": [
        "print(\"Testing Classification Report:\")\n",
        "print(classification_report(y_test,knn_testing_prediction))"
      ]
    },
    {
      "cell_type": "code",
      "source": [
        "# K Nearest Neighbors Classifier Model\n",
        "knn = KNeighborsClassifier(n_neighbors=5)\n",
        "ModelEvaluation(knn, full_train_scaled, y_train, full_test_scaled, y_test)"
      ],
      "metadata": {
        "colab": {
          "base_uri": "https://localhost:8080/"
        },
        "id": "IWwolXd8Ki4D",
        "outputId": "94bd0670-dcb3-4a89-db0b-42fd1bb390b9"
      },
      "id": "IWwolXd8Ki4D",
      "execution_count": 105,
      "outputs": [
        {
          "output_type": "stream",
          "name": "stdout",
          "text": [
            "Training Classification Report:\n",
            "              precision    recall  f1-score   support\n",
            "\n",
            "           0       0.89      0.92      0.91       596\n",
            "           1       0.87      0.83      0.85       383\n",
            "\n",
            "    accuracy                           0.88       979\n",
            "   macro avg       0.88      0.87      0.88       979\n",
            "weighted avg       0.88      0.88      0.88       979\n",
            "\n",
            "Testing Classification Report:\n",
            "              precision    recall  f1-score   support\n",
            "\n",
            "           0       0.86      0.90      0.88       218\n",
            "           1       0.78      0.71      0.74       109\n",
            "\n",
            "    accuracy                           0.83       327\n",
            "   macro avg       0.82      0.80      0.81       327\n",
            "weighted avg       0.83      0.83      0.83       327\n",
            "\n"
          ]
        }
      ]
    },
    {
      "cell_type": "code",
      "source": [
        "# Logistic Regression Model\n",
        "lor = LogisticRegression(random_state = 1)\n",
        "ModelEvaluation(lor, full_train_scaled, y_train, full_test_scaled, y_test)"
      ],
      "metadata": {
        "colab": {
          "base_uri": "https://localhost:8080/"
        },
        "id": "LogDuB6tR0BS",
        "outputId": "4eb78b6a-b863-4c8e-fb37-381fe72f3cdf"
      },
      "id": "LogDuB6tR0BS",
      "execution_count": 106,
      "outputs": [
        {
          "output_type": "stream",
          "name": "stdout",
          "text": [
            "Training Classification Report:\n",
            "              precision    recall  f1-score   support\n",
            "\n",
            "           0       0.87      0.91      0.89       596\n",
            "           1       0.85      0.79      0.82       383\n",
            "\n",
            "    accuracy                           0.86       979\n",
            "   macro avg       0.86      0.85      0.85       979\n",
            "weighted avg       0.86      0.86      0.86       979\n",
            "\n",
            "Testing Classification Report:\n",
            "              precision    recall  f1-score   support\n",
            "\n",
            "           0       0.87      0.89      0.88       218\n",
            "           1       0.76      0.73      0.75       109\n",
            "\n",
            "    accuracy                           0.83       327\n",
            "   macro avg       0.82      0.81      0.81       327\n",
            "weighted avg       0.83      0.83      0.83       327\n",
            "\n"
          ]
        }
      ]
    },
    {
      "cell_type": "code",
      "source": [
        "# Random Forest Classifier Model\n",
        "from sklearn.ensemble import RandomForestClassifier\n",
        "rf = RandomForestClassifier(n_estimators=100)\n",
        "\n",
        "ModelEvaluation(rf, full_train_scaled, y_train, full_test_scaled, y_test)"
      ],
      "metadata": {
        "colab": {
          "base_uri": "https://localhost:8080/"
        },
        "id": "YPdwBQb1TyVm",
        "outputId": "bd0eafdb-4f41-422f-e3b8-a02e54ea3928"
      },
      "id": "YPdwBQb1TyVm",
      "execution_count": 107,
      "outputs": [
        {
          "output_type": "stream",
          "name": "stdout",
          "text": [
            "Training Classification Report:\n",
            "              precision    recall  f1-score   support\n",
            "\n",
            "           0       1.00      1.00      1.00       596\n",
            "           1       1.00      1.00      1.00       383\n",
            "\n",
            "    accuracy                           1.00       979\n",
            "   macro avg       1.00      1.00      1.00       979\n",
            "weighted avg       1.00      1.00      1.00       979\n",
            "\n",
            "Testing Classification Report:\n",
            "              precision    recall  f1-score   support\n",
            "\n",
            "           0       0.87      0.89      0.88       218\n",
            "           1       0.77      0.72      0.75       109\n",
            "\n",
            "    accuracy                           0.83       327\n",
            "   macro avg       0.82      0.81      0.81       327\n",
            "weighted avg       0.83      0.83      0.83       327\n",
            "\n"
          ]
        }
      ]
    },
    {
      "cell_type": "code",
      "source": [
        "# Decision Tree Classifier Model\n",
        "from sklearn.tree import DecisionTreeClassifier\n",
        "tree = DecisionTreeClassifier()\n",
        "\n",
        "ModelEvaluation(tree, full_train_scaled, y_train, full_test_scaled, y_test)"
      ],
      "metadata": {
        "colab": {
          "base_uri": "https://localhost:8080/"
        },
        "id": "zTIPt67jWBHn",
        "outputId": "3f7cd5fc-b7df-497d-8220-e488f6a7068d"
      },
      "id": "zTIPt67jWBHn",
      "execution_count": 108,
      "outputs": [
        {
          "output_type": "stream",
          "name": "stdout",
          "text": [
            "Training Classification Report:\n",
            "              precision    recall  f1-score   support\n",
            "\n",
            "           0       1.00      1.00      1.00       596\n",
            "           1       1.00      1.00      1.00       383\n",
            "\n",
            "    accuracy                           1.00       979\n",
            "   macro avg       1.00      1.00      1.00       979\n",
            "weighted avg       1.00      1.00      1.00       979\n",
            "\n",
            "Testing Classification Report:\n",
            "              precision    recall  f1-score   support\n",
            "\n",
            "           0       0.85      0.84      0.85       218\n",
            "           1       0.69      0.71      0.70       109\n",
            "\n",
            "    accuracy                           0.80       327\n",
            "   macro avg       0.77      0.77      0.77       327\n",
            "weighted avg       0.80      0.80      0.80       327\n",
            "\n"
          ]
        }
      ]
    },
    {
      "cell_type": "code",
      "source": [
        "# Gaussian Naive Bayes\n",
        "from sklearn.naive_bayes import GaussianNB\n",
        "gnb = GaussianNB()\n",
        "ModelEvaluation(gnb, full_train_scaled, y_train, full_test_scaled, y_test)\n"
      ],
      "metadata": {
        "colab": {
          "base_uri": "https://localhost:8080/"
        },
        "id": "WKgYgm87bBsy",
        "outputId": "9d848aca-ef66-41ea-c891-4830276ca66f"
      },
      "id": "WKgYgm87bBsy",
      "execution_count": 109,
      "outputs": [
        {
          "output_type": "stream",
          "name": "stdout",
          "text": [
            "Training Classification Report:\n",
            "              precision    recall  f1-score   support\n",
            "\n",
            "           0       0.87      0.87      0.87       596\n",
            "           1       0.80      0.80      0.80       383\n",
            "\n",
            "    accuracy                           0.85       979\n",
            "   macro avg       0.84      0.84      0.84       979\n",
            "weighted avg       0.85      0.85      0.85       979\n",
            "\n",
            "Testing Classification Report:\n",
            "              precision    recall  f1-score   support\n",
            "\n",
            "           0       0.88      0.88      0.88       218\n",
            "           1       0.75      0.75      0.75       109\n",
            "\n",
            "    accuracy                           0.83       327\n",
            "   macro avg       0.81      0.81      0.81       327\n",
            "weighted avg       0.83      0.83      0.83       327\n",
            "\n"
          ]
        }
      ]
    },
    {
      "cell_type": "code",
      "source": [
        "from sklearn.ensemble import AdaBoostClassifier, BaggingClassifier, GradientBoostingClassifier\n",
        "# evaluate numerous models from outside of class scope\n",
        "gb = GradientBoostingClassifier(n_estimators=200)\n",
        "ModelEvaluation(gb, full_train_scaled, y_train, full_test_scaled, y_test)"
      ],
      "metadata": {
        "colab": {
          "base_uri": "https://localhost:8080/"
        },
        "id": "0FSqL2y-bxsn",
        "outputId": "06cad1ad-2cb0-4ca3-a198-32d2d4caaeb5"
      },
      "id": "0FSqL2y-bxsn",
      "execution_count": 110,
      "outputs": [
        {
          "output_type": "stream",
          "name": "stdout",
          "text": [
            "Training Classification Report:\n",
            "              precision    recall  f1-score   support\n",
            "\n",
            "           0       0.94      0.97      0.95       596\n",
            "           1       0.96      0.90      0.93       383\n",
            "\n",
            "    accuracy                           0.94       979\n",
            "   macro avg       0.95      0.94      0.94       979\n",
            "weighted avg       0.94      0.94      0.94       979\n",
            "\n",
            "Testing Classification Report:\n",
            "              precision    recall  f1-score   support\n",
            "\n",
            "           0       0.87      0.88      0.88       218\n",
            "           1       0.76      0.74      0.75       109\n",
            "\n",
            "    accuracy                           0.83       327\n",
            "   macro avg       0.81      0.81      0.81       327\n",
            "weighted avg       0.83      0.83      0.83       327\n",
            "\n"
          ]
        }
      ]
    },
    {
      "cell_type": "code",
      "source": [
        "bag = BaggingClassifier(n_estimators=200)\n",
        "ModelEvaluation(bag, full_train_scaled, y_train, full_test_scaled, y_test)"
      ],
      "metadata": {
        "colab": {
          "base_uri": "https://localhost:8080/"
        },
        "id": "6VSUICHqYfI1",
        "outputId": "38f0d38f-8420-4de1-df40-d067f684c4db"
      },
      "id": "6VSUICHqYfI1",
      "execution_count": 111,
      "outputs": [
        {
          "output_type": "stream",
          "name": "stdout",
          "text": [
            "Training Classification Report:\n",
            "              precision    recall  f1-score   support\n",
            "\n",
            "           0       1.00      1.00      1.00       596\n",
            "           1       1.00      1.00      1.00       383\n",
            "\n",
            "    accuracy                           1.00       979\n",
            "   macro avg       1.00      1.00      1.00       979\n",
            "weighted avg       1.00      1.00      1.00       979\n",
            "\n",
            "Testing Classification Report:\n",
            "              precision    recall  f1-score   support\n",
            "\n",
            "           0       0.85      0.89      0.87       218\n",
            "           1       0.77      0.69      0.72       109\n",
            "\n",
            "    accuracy                           0.83       327\n",
            "   macro avg       0.81      0.79      0.80       327\n",
            "weighted avg       0.82      0.83      0.82       327\n",
            "\n"
          ]
        }
      ]
    },
    {
      "cell_type": "code",
      "source": [
        "ada = AdaBoostClassifier(n_estimators=200)\n",
        "ModelEvaluation(ada, full_train_scaled, y_train, full_test_scaled, y_test)"
      ],
      "metadata": {
        "colab": {
          "base_uri": "https://localhost:8080/"
        },
        "id": "Ef_idjefYo7E",
        "outputId": "684099eb-5f0d-4bca-9168-972bc3a9226c"
      },
      "id": "Ef_idjefYo7E",
      "execution_count": 112,
      "outputs": [
        {
          "output_type": "stream",
          "name": "stdout",
          "text": [
            "Training Classification Report:\n",
            "              precision    recall  f1-score   support\n",
            "\n",
            "           0       0.91      0.93      0.92       596\n",
            "           1       0.89      0.85      0.87       383\n",
            "\n",
            "    accuracy                           0.90       979\n",
            "   macro avg       0.90      0.89      0.90       979\n",
            "weighted avg       0.90      0.90      0.90       979\n",
            "\n",
            "Testing Classification Report:\n",
            "              precision    recall  f1-score   support\n",
            "\n",
            "           0       0.87      0.89      0.88       218\n",
            "           1       0.77      0.74      0.76       109\n",
            "\n",
            "    accuracy                           0.84       327\n",
            "   macro avg       0.82      0.82      0.82       327\n",
            "weighted avg       0.84      0.84      0.84       327\n",
            "\n"
          ]
        }
      ]
    },
    {
      "cell_type": "code",
      "source": [
        "from sklearn import tree\n",
        "# evaluate decision tree performance\n",
        "clf = tree.DecisionTreeClassifier()\n",
        "clf = clf.fit(full_train_scaled, y_train)\n",
        "prediction = clf.predict(full_test_scaled)"
      ],
      "metadata": {
        "id": "fw4vVXeqZGQw"
      },
      "id": "fw4vVXeqZGQw",
      "execution_count": 113,
      "outputs": []
    },
    {
      "cell_type": "code",
      "source": [
        "import graphviz\n",
        "# create tree visualization\n",
        "dot_data = tree.export_graphviz(clf, out_file=None)\n",
        "graph = graphviz.Source(dot_data)\n",
        "graph.render(\"tree_graph\")"
      ],
      "metadata": {
        "colab": {
          "base_uri": "https://localhost:8080/",
          "height": 35
        },
        "id": "_4Y19rAbZfy2",
        "outputId": "908ef0e9-f8c4-4447-ad75-c62cb7db2743"
      },
      "id": "_4Y19rAbZfy2",
      "execution_count": 114,
      "outputs": [
        {
          "output_type": "execute_result",
          "data": {
            "text/plain": [
              "'tree_graph.pdf'"
            ],
            "application/vnd.google.colaboratory.intrinsic+json": {
              "type": "string"
            }
          },
          "metadata": {},
          "execution_count": 114
        }
      ]
    },
    {
      "cell_type": "code",
      "source": [
        "# evaluate DNN performance\n",
        "# Define the model - deep neural net, i.e., the number of input features and hidden nodes for each layer.\n",
        "input_features_num = len(full_train_scaled[0])\n",
        "layer1_nodes = 60\n",
        "layer2_nodes = 30\n",
        "\n",
        "nn = tf.keras.models.Sequential()\n",
        "\n",
        "# First hidden layer\n",
        "nn.add(tf.keras.layers.Dense(units=layer1_nodes, input_dim=input_features_num, activation=\"relu\"))\n",
        "\n",
        "# Second hidden layer\n",
        "nn.add(tf.keras.layers.Dense(units=layer2_nodes, activation=\"sigmoid\"))\n",
        "\n",
        "nn.add(tf.keras.layers.Dense(units=layer2_nodes, activation=\"sigmoid\"))\n",
        "\n",
        "# Output layer; sigmoid chosen due to binary nature of target\n",
        "nn.add(tf.keras.layers.Dense(units=1, activation=\"sigmoid\"))\n",
        "\n",
        "# Check the structure of the model\n",
        "nn.summary()"
      ],
      "metadata": {
        "colab": {
          "base_uri": "https://localhost:8080/"
        },
        "id": "Lw3f3HRxZ-tV",
        "outputId": "22b15ab4-2af3-44bb-86b5-a606f5551bd3"
      },
      "id": "Lw3f3HRxZ-tV",
      "execution_count": 115,
      "outputs": [
        {
          "output_type": "stream",
          "name": "stdout",
          "text": [
            "Model: \"sequential_2\"\n",
            "_________________________________________________________________\n",
            " Layer (type)                Output Shape              Param #   \n",
            "=================================================================\n",
            " dense_8 (Dense)             (None, 60)                1020      \n",
            "                                                                 \n",
            " dense_9 (Dense)             (None, 30)                1830      \n",
            "                                                                 \n",
            " dense_10 (Dense)            (None, 30)                930       \n",
            "                                                                 \n",
            " dense_11 (Dense)            (None, 1)                 31        \n",
            "                                                                 \n",
            "=================================================================\n",
            "Total params: 3811 (14.89 KB)\n",
            "Trainable params: 3811 (14.89 KB)\n",
            "Non-trainable params: 0 (0.00 Byte)\n",
            "_________________________________________________________________\n"
          ]
        }
      ]
    },
    {
      "cell_type": "code",
      "source": [
        "# compile, fit, evaluate DNN\n",
        "nn.compile(loss=\"binary_crossentropy\", optimizer='adam', metrics=[\"accuracy\"])\n",
        "fit_model = nn.fit(full_train_scaled,y_train,epochs=200)\n",
        "model_loss, model_accuracy = nn.evaluate(full_test_scaled, y_test)\n",
        "print(f\"Loss: {model_loss}, Accuracy: {model_accuracy}\")"
      ],
      "metadata": {
        "colab": {
          "base_uri": "https://localhost:8080/"
        },
        "id": "E5trIOs8Z_kZ",
        "outputId": "13194c1f-ef3a-448f-8a39-3ca045a217d2"
      },
      "id": "E5trIOs8Z_kZ",
      "execution_count": 116,
      "outputs": [
        {
          "output_type": "stream",
          "name": "stdout",
          "text": [
            "Epoch 1/200\n",
            "31/31 [==============================] - 3s 6ms/step - loss: 0.6833 - accuracy: 0.6088\n",
            "Epoch 2/200\n",
            "31/31 [==============================] - 0s 9ms/step - loss: 0.6213 - accuracy: 0.6159\n",
            "Epoch 3/200\n",
            "31/31 [==============================] - 0s 6ms/step - loss: 0.5573 - accuracy: 0.7406\n",
            "Epoch 4/200\n",
            "31/31 [==============================] - 0s 5ms/step - loss: 0.4674 - accuracy: 0.8345\n",
            "Epoch 5/200\n",
            "31/31 [==============================] - 0s 6ms/step - loss: 0.4024 - accuracy: 0.8580\n",
            "Epoch 6/200\n",
            "31/31 [==============================] - 0s 6ms/step - loss: 0.3747 - accuracy: 0.8611\n",
            "Epoch 7/200\n",
            "31/31 [==============================] - 0s 6ms/step - loss: 0.3647 - accuracy: 0.8662\n",
            "Epoch 8/200\n",
            "31/31 [==============================] - 0s 8ms/step - loss: 0.3590 - accuracy: 0.8641\n",
            "Epoch 9/200\n",
            "31/31 [==============================] - 0s 4ms/step - loss: 0.3537 - accuracy: 0.8672\n",
            "Epoch 10/200\n",
            "31/31 [==============================] - 0s 6ms/step - loss: 0.3492 - accuracy: 0.8693\n",
            "Epoch 11/200\n",
            "31/31 [==============================] - 0s 8ms/step - loss: 0.3453 - accuracy: 0.8693\n",
            "Epoch 12/200\n",
            "31/31 [==============================] - 0s 6ms/step - loss: 0.3426 - accuracy: 0.8703\n",
            "Epoch 13/200\n",
            "31/31 [==============================] - 0s 5ms/step - loss: 0.3396 - accuracy: 0.8723\n",
            "Epoch 14/200\n",
            "31/31 [==============================] - 0s 5ms/step - loss: 0.3374 - accuracy: 0.8723\n",
            "Epoch 15/200\n",
            "31/31 [==============================] - 0s 4ms/step - loss: 0.3332 - accuracy: 0.8713\n",
            "Epoch 16/200\n",
            "31/31 [==============================] - 0s 5ms/step - loss: 0.3307 - accuracy: 0.8754\n",
            "Epoch 17/200\n",
            "31/31 [==============================] - 0s 5ms/step - loss: 0.3287 - accuracy: 0.8733\n",
            "Epoch 18/200\n",
            "31/31 [==============================] - 0s 5ms/step - loss: 0.3273 - accuracy: 0.8764\n",
            "Epoch 19/200\n",
            "31/31 [==============================] - 0s 5ms/step - loss: 0.3246 - accuracy: 0.8774\n",
            "Epoch 20/200\n",
            "31/31 [==============================] - 0s 5ms/step - loss: 0.3269 - accuracy: 0.8774\n",
            "Epoch 21/200\n",
            "31/31 [==============================] - 0s 6ms/step - loss: 0.3232 - accuracy: 0.8784\n",
            "Epoch 22/200\n",
            "31/31 [==============================] - 0s 5ms/step - loss: 0.3207 - accuracy: 0.8764\n",
            "Epoch 23/200\n",
            "31/31 [==============================] - 0s 6ms/step - loss: 0.3204 - accuracy: 0.8764\n",
            "Epoch 24/200\n",
            "31/31 [==============================] - 0s 7ms/step - loss: 0.3202 - accuracy: 0.8733\n",
            "Epoch 25/200\n",
            "31/31 [==============================] - 0s 11ms/step - loss: 0.3190 - accuracy: 0.8795\n",
            "Epoch 26/200\n",
            "31/31 [==============================] - 0s 7ms/step - loss: 0.3160 - accuracy: 0.8815\n",
            "Epoch 27/200\n",
            "31/31 [==============================] - 0s 4ms/step - loss: 0.3152 - accuracy: 0.8815\n",
            "Epoch 28/200\n",
            "31/31 [==============================] - 0s 6ms/step - loss: 0.3136 - accuracy: 0.8846\n",
            "Epoch 29/200\n",
            "31/31 [==============================] - 0s 6ms/step - loss: 0.3141 - accuracy: 0.8795\n",
            "Epoch 30/200\n",
            "31/31 [==============================] - 0s 8ms/step - loss: 0.3152 - accuracy: 0.8836\n",
            "Epoch 31/200\n",
            "31/31 [==============================] - 0s 7ms/step - loss: 0.3135 - accuracy: 0.8784\n",
            "Epoch 32/200\n",
            "31/31 [==============================] - 0s 10ms/step - loss: 0.3130 - accuracy: 0.8836\n",
            "Epoch 33/200\n",
            "31/31 [==============================] - 0s 12ms/step - loss: 0.3100 - accuracy: 0.8825\n",
            "Epoch 34/200\n",
            "31/31 [==============================] - 0s 12ms/step - loss: 0.3093 - accuracy: 0.8795\n",
            "Epoch 35/200\n",
            "31/31 [==============================] - 0s 9ms/step - loss: 0.3094 - accuracy: 0.8866\n",
            "Epoch 36/200\n",
            "31/31 [==============================] - 0s 5ms/step - loss: 0.3103 - accuracy: 0.8815\n",
            "Epoch 37/200\n",
            "31/31 [==============================] - 0s 9ms/step - loss: 0.3076 - accuracy: 0.8846\n",
            "Epoch 38/200\n",
            "31/31 [==============================] - 0s 14ms/step - loss: 0.3057 - accuracy: 0.8866\n",
            "Epoch 39/200\n",
            "31/31 [==============================] - 0s 10ms/step - loss: 0.3057 - accuracy: 0.8815\n",
            "Epoch 40/200\n",
            "31/31 [==============================] - 0s 13ms/step - loss: 0.3059 - accuracy: 0.8866\n",
            "Epoch 41/200\n",
            "31/31 [==============================] - 0s 10ms/step - loss: 0.3051 - accuracy: 0.8825\n",
            "Epoch 42/200\n",
            "31/31 [==============================] - 0s 10ms/step - loss: 0.3055 - accuracy: 0.8856\n",
            "Epoch 43/200\n",
            "31/31 [==============================] - 0s 9ms/step - loss: 0.3096 - accuracy: 0.8846\n",
            "Epoch 44/200\n",
            "31/31 [==============================] - 0s 16ms/step - loss: 0.3029 - accuracy: 0.8866\n",
            "Epoch 45/200\n",
            "31/31 [==============================] - 0s 16ms/step - loss: 0.3028 - accuracy: 0.8836\n",
            "Epoch 46/200\n",
            "31/31 [==============================] - 0s 6ms/step - loss: 0.3023 - accuracy: 0.8856\n",
            "Epoch 47/200\n",
            "31/31 [==============================] - 0s 9ms/step - loss: 0.3000 - accuracy: 0.8856\n",
            "Epoch 48/200\n",
            "31/31 [==============================] - 0s 8ms/step - loss: 0.2997 - accuracy: 0.8825\n",
            "Epoch 49/200\n",
            "31/31 [==============================] - 0s 6ms/step - loss: 0.2997 - accuracy: 0.8856\n",
            "Epoch 50/200\n",
            "31/31 [==============================] - 0s 10ms/step - loss: 0.2993 - accuracy: 0.8876\n",
            "Epoch 51/200\n",
            "31/31 [==============================] - 0s 7ms/step - loss: 0.2982 - accuracy: 0.8856\n",
            "Epoch 52/200\n",
            "31/31 [==============================] - 0s 6ms/step - loss: 0.2965 - accuracy: 0.8887\n",
            "Epoch 53/200\n",
            "31/31 [==============================] - 0s 9ms/step - loss: 0.2976 - accuracy: 0.8876\n",
            "Epoch 54/200\n",
            "31/31 [==============================] - 0s 7ms/step - loss: 0.2952 - accuracy: 0.8836\n",
            "Epoch 55/200\n",
            "31/31 [==============================] - 0s 6ms/step - loss: 0.2949 - accuracy: 0.8856\n",
            "Epoch 56/200\n",
            "31/31 [==============================] - 0s 7ms/step - loss: 0.2940 - accuracy: 0.8907\n",
            "Epoch 57/200\n",
            "31/31 [==============================] - 0s 6ms/step - loss: 0.2931 - accuracy: 0.8876\n",
            "Epoch 58/200\n",
            "31/31 [==============================] - 0s 7ms/step - loss: 0.2946 - accuracy: 0.8856\n",
            "Epoch 59/200\n",
            "31/31 [==============================] - 0s 7ms/step - loss: 0.2953 - accuracy: 0.8795\n",
            "Epoch 60/200\n",
            "31/31 [==============================] - 0s 6ms/step - loss: 0.2910 - accuracy: 0.8887\n",
            "Epoch 61/200\n",
            "31/31 [==============================] - 0s 6ms/step - loss: 0.2906 - accuracy: 0.8927\n",
            "Epoch 62/200\n",
            "31/31 [==============================] - 0s 7ms/step - loss: 0.2922 - accuracy: 0.8876\n",
            "Epoch 63/200\n",
            "31/31 [==============================] - 0s 9ms/step - loss: 0.2889 - accuracy: 0.8907\n",
            "Epoch 64/200\n",
            "31/31 [==============================] - 0s 5ms/step - loss: 0.2900 - accuracy: 0.8815\n",
            "Epoch 65/200\n",
            "31/31 [==============================] - 0s 8ms/step - loss: 0.2886 - accuracy: 0.8927\n",
            "Epoch 66/200\n",
            "31/31 [==============================] - 0s 6ms/step - loss: 0.2901 - accuracy: 0.8866\n",
            "Epoch 67/200\n",
            "31/31 [==============================] - 0s 5ms/step - loss: 0.2867 - accuracy: 0.8856\n",
            "Epoch 68/200\n",
            "31/31 [==============================] - 0s 5ms/step - loss: 0.2864 - accuracy: 0.8907\n",
            "Epoch 69/200\n",
            "31/31 [==============================] - 0s 7ms/step - loss: 0.2848 - accuracy: 0.8887\n",
            "Epoch 70/200\n",
            "31/31 [==============================] - 0s 6ms/step - loss: 0.2858 - accuracy: 0.8907\n",
            "Epoch 71/200\n",
            "31/31 [==============================] - 0s 4ms/step - loss: 0.2841 - accuracy: 0.8856\n",
            "Epoch 72/200\n",
            "31/31 [==============================] - 0s 6ms/step - loss: 0.2833 - accuracy: 0.8938\n",
            "Epoch 73/200\n",
            "31/31 [==============================] - 0s 10ms/step - loss: 0.2811 - accuracy: 0.8907\n",
            "Epoch 74/200\n",
            "31/31 [==============================] - 0s 9ms/step - loss: 0.2836 - accuracy: 0.8825\n",
            "Epoch 75/200\n",
            "31/31 [==============================] - 0s 10ms/step - loss: 0.2797 - accuracy: 0.8938\n",
            "Epoch 76/200\n",
            "31/31 [==============================] - 0s 7ms/step - loss: 0.2826 - accuracy: 0.8938\n",
            "Epoch 77/200\n",
            "31/31 [==============================] - 0s 7ms/step - loss: 0.2848 - accuracy: 0.8876\n",
            "Epoch 78/200\n",
            "31/31 [==============================] - 0s 8ms/step - loss: 0.2787 - accuracy: 0.8927\n",
            "Epoch 79/200\n",
            "31/31 [==============================] - 0s 5ms/step - loss: 0.2776 - accuracy: 0.8948\n",
            "Epoch 80/200\n",
            "31/31 [==============================] - 0s 5ms/step - loss: 0.2764 - accuracy: 0.8938\n",
            "Epoch 81/200\n",
            "31/31 [==============================] - 0s 4ms/step - loss: 0.2771 - accuracy: 0.8866\n",
            "Epoch 82/200\n",
            "31/31 [==============================] - 0s 5ms/step - loss: 0.2754 - accuracy: 0.8927\n",
            "Epoch 83/200\n",
            "31/31 [==============================] - 0s 6ms/step - loss: 0.2748 - accuracy: 0.8927\n",
            "Epoch 84/200\n",
            "31/31 [==============================] - 0s 10ms/step - loss: 0.2745 - accuracy: 0.8897\n",
            "Epoch 85/200\n",
            "31/31 [==============================] - 0s 5ms/step - loss: 0.2714 - accuracy: 0.8958\n",
            "Epoch 86/200\n",
            "31/31 [==============================] - 0s 11ms/step - loss: 0.2755 - accuracy: 0.8948\n",
            "Epoch 87/200\n",
            "31/31 [==============================] - 0s 7ms/step - loss: 0.2729 - accuracy: 0.8989\n",
            "Epoch 88/200\n",
            "31/31 [==============================] - 0s 6ms/step - loss: 0.2748 - accuracy: 0.8938\n",
            "Epoch 89/200\n",
            "31/31 [==============================] - 0s 8ms/step - loss: 0.2709 - accuracy: 0.8938\n",
            "Epoch 90/200\n",
            "31/31 [==============================] - 0s 11ms/step - loss: 0.2710 - accuracy: 0.8989\n",
            "Epoch 91/200\n",
            "31/31 [==============================] - 0s 7ms/step - loss: 0.2680 - accuracy: 0.8958\n",
            "Epoch 92/200\n",
            "31/31 [==============================] - 0s 7ms/step - loss: 0.2715 - accuracy: 0.8907\n",
            "Epoch 93/200\n",
            "31/31 [==============================] - 1s 17ms/step - loss: 0.2675 - accuracy: 0.8927\n",
            "Epoch 94/200\n",
            "31/31 [==============================] - 0s 11ms/step - loss: 0.2670 - accuracy: 0.8958\n",
            "Epoch 95/200\n",
            "31/31 [==============================] - 0s 12ms/step - loss: 0.2682 - accuracy: 0.8938\n",
            "Epoch 96/200\n",
            "31/31 [==============================] - 0s 12ms/step - loss: 0.2675 - accuracy: 0.8968\n",
            "Epoch 97/200\n",
            "31/31 [==============================] - 0s 9ms/step - loss: 0.2651 - accuracy: 0.8958\n",
            "Epoch 98/200\n",
            "31/31 [==============================] - 0s 11ms/step - loss: 0.2655 - accuracy: 0.8938\n",
            "Epoch 99/200\n",
            "31/31 [==============================] - 0s 9ms/step - loss: 0.2641 - accuracy: 0.8968\n",
            "Epoch 100/200\n",
            "31/31 [==============================] - 0s 11ms/step - loss: 0.2630 - accuracy: 0.8979\n",
            "Epoch 101/200\n",
            "31/31 [==============================] - 0s 15ms/step - loss: 0.2622 - accuracy: 0.8979\n",
            "Epoch 102/200\n",
            "31/31 [==============================] - 0s 14ms/step - loss: 0.2632 - accuracy: 0.8979\n",
            "Epoch 103/200\n",
            "31/31 [==============================] - 0s 7ms/step - loss: 0.2602 - accuracy: 0.9060\n",
            "Epoch 104/200\n",
            "31/31 [==============================] - 0s 6ms/step - loss: 0.2625 - accuracy: 0.9050\n",
            "Epoch 105/200\n",
            "31/31 [==============================] - 0s 7ms/step - loss: 0.2578 - accuracy: 0.8979\n",
            "Epoch 106/200\n",
            "31/31 [==============================] - 0s 6ms/step - loss: 0.2590 - accuracy: 0.8989\n",
            "Epoch 107/200\n",
            "31/31 [==============================] - 0s 7ms/step - loss: 0.2569 - accuracy: 0.9111\n",
            "Epoch 108/200\n",
            "31/31 [==============================] - 0s 7ms/step - loss: 0.2566 - accuracy: 0.9040\n",
            "Epoch 109/200\n",
            "31/31 [==============================] - 0s 6ms/step - loss: 0.2655 - accuracy: 0.9019\n",
            "Epoch 110/200\n",
            "31/31 [==============================] - 0s 11ms/step - loss: 0.2562 - accuracy: 0.9060\n",
            "Epoch 111/200\n",
            "31/31 [==============================] - 0s 10ms/step - loss: 0.2558 - accuracy: 0.9081\n",
            "Epoch 112/200\n",
            "31/31 [==============================] - 0s 6ms/step - loss: 0.2521 - accuracy: 0.9019\n",
            "Epoch 113/200\n",
            "31/31 [==============================] - 0s 12ms/step - loss: 0.2532 - accuracy: 0.9070\n",
            "Epoch 114/200\n",
            "31/31 [==============================] - 0s 9ms/step - loss: 0.2520 - accuracy: 0.9091\n",
            "Epoch 115/200\n",
            "31/31 [==============================] - 0s 6ms/step - loss: 0.2512 - accuracy: 0.9091\n",
            "Epoch 116/200\n",
            "31/31 [==============================] - 0s 7ms/step - loss: 0.2515 - accuracy: 0.9101\n",
            "Epoch 117/200\n",
            "31/31 [==============================] - 0s 7ms/step - loss: 0.2543 - accuracy: 0.9101\n",
            "Epoch 118/200\n",
            "31/31 [==============================] - 0s 8ms/step - loss: 0.2520 - accuracy: 0.9091\n",
            "Epoch 119/200\n",
            "31/31 [==============================] - 0s 5ms/step - loss: 0.2490 - accuracy: 0.9091\n",
            "Epoch 120/200\n",
            "31/31 [==============================] - 0s 5ms/step - loss: 0.2486 - accuracy: 0.9173\n",
            "Epoch 121/200\n",
            "31/31 [==============================] - 0s 5ms/step - loss: 0.2488 - accuracy: 0.9070\n",
            "Epoch 122/200\n",
            "31/31 [==============================] - 0s 5ms/step - loss: 0.2453 - accuracy: 0.9122\n",
            "Epoch 123/200\n",
            "31/31 [==============================] - 0s 5ms/step - loss: 0.2490 - accuracy: 0.9081\n",
            "Epoch 124/200\n",
            "31/31 [==============================] - 0s 5ms/step - loss: 0.2443 - accuracy: 0.9122\n",
            "Epoch 125/200\n",
            "31/31 [==============================] - 0s 6ms/step - loss: 0.2486 - accuracy: 0.9081\n",
            "Epoch 126/200\n",
            "31/31 [==============================] - 0s 4ms/step - loss: 0.2444 - accuracy: 0.9132\n",
            "Epoch 127/200\n",
            "31/31 [==============================] - 0s 3ms/step - loss: 0.2455 - accuracy: 0.9142\n",
            "Epoch 128/200\n",
            "31/31 [==============================] - 0s 3ms/step - loss: 0.2479 - accuracy: 0.9091\n",
            "Epoch 129/200\n",
            "31/31 [==============================] - 0s 3ms/step - loss: 0.2459 - accuracy: 0.9152\n",
            "Epoch 130/200\n",
            "31/31 [==============================] - 0s 2ms/step - loss: 0.2416 - accuracy: 0.9152\n",
            "Epoch 131/200\n",
            "31/31 [==============================] - 0s 3ms/step - loss: 0.2430 - accuracy: 0.9122\n",
            "Epoch 132/200\n",
            "31/31 [==============================] - 0s 3ms/step - loss: 0.2407 - accuracy: 0.9142\n",
            "Epoch 133/200\n",
            "31/31 [==============================] - 0s 3ms/step - loss: 0.2401 - accuracy: 0.9173\n",
            "Epoch 134/200\n",
            "31/31 [==============================] - 0s 2ms/step - loss: 0.2450 - accuracy: 0.9142\n",
            "Epoch 135/200\n",
            "31/31 [==============================] - 0s 3ms/step - loss: 0.2392 - accuracy: 0.9142\n",
            "Epoch 136/200\n",
            "31/31 [==============================] - 0s 2ms/step - loss: 0.2415 - accuracy: 0.9173\n",
            "Epoch 137/200\n",
            "31/31 [==============================] - 0s 3ms/step - loss: 0.2442 - accuracy: 0.9132\n",
            "Epoch 138/200\n",
            "31/31 [==============================] - 0s 3ms/step - loss: 0.2372 - accuracy: 0.9183\n",
            "Epoch 139/200\n",
            "31/31 [==============================] - 0s 3ms/step - loss: 0.2370 - accuracy: 0.9142\n",
            "Epoch 140/200\n",
            "31/31 [==============================] - 0s 3ms/step - loss: 0.2385 - accuracy: 0.9122\n",
            "Epoch 141/200\n",
            "31/31 [==============================] - 0s 2ms/step - loss: 0.2386 - accuracy: 0.9122\n",
            "Epoch 142/200\n",
            "31/31 [==============================] - 0s 3ms/step - loss: 0.2386 - accuracy: 0.9081\n",
            "Epoch 143/200\n",
            "31/31 [==============================] - 0s 3ms/step - loss: 0.2370 - accuracy: 0.9173\n",
            "Epoch 144/200\n",
            "31/31 [==============================] - 0s 2ms/step - loss: 0.2354 - accuracy: 0.9142\n",
            "Epoch 145/200\n",
            "31/31 [==============================] - 0s 2ms/step - loss: 0.2344 - accuracy: 0.9162\n",
            "Epoch 146/200\n",
            "31/31 [==============================] - 0s 3ms/step - loss: 0.2385 - accuracy: 0.9162\n",
            "Epoch 147/200\n",
            "31/31 [==============================] - 0s 2ms/step - loss: 0.2372 - accuracy: 0.9162\n",
            "Epoch 148/200\n",
            "31/31 [==============================] - 0s 3ms/step - loss: 0.2343 - accuracy: 0.9142\n",
            "Epoch 149/200\n",
            "31/31 [==============================] - 0s 2ms/step - loss: 0.2332 - accuracy: 0.9142\n",
            "Epoch 150/200\n",
            "31/31 [==============================] - 0s 3ms/step - loss: 0.2345 - accuracy: 0.9203\n",
            "Epoch 151/200\n",
            "31/31 [==============================] - 0s 3ms/step - loss: 0.2316 - accuracy: 0.9173\n",
            "Epoch 152/200\n",
            "31/31 [==============================] - 0s 3ms/step - loss: 0.2346 - accuracy: 0.9132\n",
            "Epoch 153/200\n",
            "31/31 [==============================] - 0s 3ms/step - loss: 0.2343 - accuracy: 0.9152\n",
            "Epoch 154/200\n",
            "31/31 [==============================] - 0s 2ms/step - loss: 0.2335 - accuracy: 0.9142\n",
            "Epoch 155/200\n",
            "31/31 [==============================] - 0s 4ms/step - loss: 0.2305 - accuracy: 0.9193\n",
            "Epoch 156/200\n",
            "31/31 [==============================] - 0s 3ms/step - loss: 0.2312 - accuracy: 0.9162\n",
            "Epoch 157/200\n",
            "31/31 [==============================] - 0s 3ms/step - loss: 0.2400 - accuracy: 0.9152\n",
            "Epoch 158/200\n",
            "31/31 [==============================] - 0s 3ms/step - loss: 0.2373 - accuracy: 0.9111\n",
            "Epoch 159/200\n",
            "31/31 [==============================] - 0s 3ms/step - loss: 0.2319 - accuracy: 0.9142\n",
            "Epoch 160/200\n",
            "31/31 [==============================] - 0s 4ms/step - loss: 0.2275 - accuracy: 0.9203\n",
            "Epoch 161/200\n",
            "31/31 [==============================] - 0s 3ms/step - loss: 0.2337 - accuracy: 0.9142\n",
            "Epoch 162/200\n",
            "31/31 [==============================] - 0s 3ms/step - loss: 0.2296 - accuracy: 0.9152\n",
            "Epoch 163/200\n",
            "31/31 [==============================] - 0s 3ms/step - loss: 0.2253 - accuracy: 0.9203\n",
            "Epoch 164/200\n",
            "31/31 [==============================] - 0s 3ms/step - loss: 0.2250 - accuracy: 0.9203\n",
            "Epoch 165/200\n",
            "31/31 [==============================] - 0s 2ms/step - loss: 0.2314 - accuracy: 0.9213\n",
            "Epoch 166/200\n",
            "31/31 [==============================] - 0s 3ms/step - loss: 0.2293 - accuracy: 0.9142\n",
            "Epoch 167/200\n",
            "31/31 [==============================] - 0s 3ms/step - loss: 0.2266 - accuracy: 0.9152\n",
            "Epoch 168/200\n",
            "31/31 [==============================] - 0s 3ms/step - loss: 0.2305 - accuracy: 0.9142\n",
            "Epoch 169/200\n",
            "31/31 [==============================] - 0s 3ms/step - loss: 0.2252 - accuracy: 0.9183\n",
            "Epoch 170/200\n",
            "31/31 [==============================] - 0s 3ms/step - loss: 0.2222 - accuracy: 0.9234\n",
            "Epoch 171/200\n",
            "31/31 [==============================] - 0s 3ms/step - loss: 0.2240 - accuracy: 0.9162\n",
            "Epoch 172/200\n",
            "31/31 [==============================] - 0s 3ms/step - loss: 0.2240 - accuracy: 0.9224\n",
            "Epoch 173/200\n",
            "31/31 [==============================] - 0s 2ms/step - loss: 0.2234 - accuracy: 0.9193\n",
            "Epoch 174/200\n",
            "31/31 [==============================] - 0s 3ms/step - loss: 0.2229 - accuracy: 0.9152\n",
            "Epoch 175/200\n",
            "31/31 [==============================] - 0s 4ms/step - loss: 0.2240 - accuracy: 0.9183\n",
            "Epoch 176/200\n",
            "31/31 [==============================] - 0s 5ms/step - loss: 0.2261 - accuracy: 0.9173\n",
            "Epoch 177/200\n",
            "31/31 [==============================] - 0s 6ms/step - loss: 0.2273 - accuracy: 0.9183\n",
            "Epoch 178/200\n",
            "31/31 [==============================] - 0s 5ms/step - loss: 0.2203 - accuracy: 0.9193\n",
            "Epoch 179/200\n",
            "31/31 [==============================] - 0s 5ms/step - loss: 0.2244 - accuracy: 0.9152\n",
            "Epoch 180/200\n",
            "31/31 [==============================] - 0s 5ms/step - loss: 0.2195 - accuracy: 0.9213\n",
            "Epoch 181/200\n",
            "31/31 [==============================] - 0s 5ms/step - loss: 0.2196 - accuracy: 0.9193\n",
            "Epoch 182/200\n",
            "31/31 [==============================] - 0s 4ms/step - loss: 0.2212 - accuracy: 0.9193\n",
            "Epoch 183/200\n",
            "31/31 [==============================] - 0s 4ms/step - loss: 0.2172 - accuracy: 0.9224\n",
            "Epoch 184/200\n",
            "31/31 [==============================] - 0s 4ms/step - loss: 0.2180 - accuracy: 0.9234\n",
            "Epoch 185/200\n",
            "31/31 [==============================] - 0s 4ms/step - loss: 0.2200 - accuracy: 0.9213\n",
            "Epoch 186/200\n",
            "31/31 [==============================] - 0s 4ms/step - loss: 0.2182 - accuracy: 0.9213\n",
            "Epoch 187/200\n",
            "31/31 [==============================] - 0s 4ms/step - loss: 0.2164 - accuracy: 0.9183\n",
            "Epoch 188/200\n",
            "31/31 [==============================] - 0s 4ms/step - loss: 0.2157 - accuracy: 0.9224\n",
            "Epoch 189/200\n",
            "31/31 [==============================] - 0s 4ms/step - loss: 0.2152 - accuracy: 0.9234\n",
            "Epoch 190/200\n",
            "31/31 [==============================] - 0s 4ms/step - loss: 0.2128 - accuracy: 0.9275\n",
            "Epoch 191/200\n",
            "31/31 [==============================] - 0s 5ms/step - loss: 0.2194 - accuracy: 0.9254\n",
            "Epoch 192/200\n",
            "31/31 [==============================] - 0s 5ms/step - loss: 0.2175 - accuracy: 0.9183\n",
            "Epoch 193/200\n",
            "31/31 [==============================] - 0s 5ms/step - loss: 0.2164 - accuracy: 0.9213\n",
            "Epoch 194/200\n",
            "31/31 [==============================] - 0s 5ms/step - loss: 0.2161 - accuracy: 0.9193\n",
            "Epoch 195/200\n",
            "31/31 [==============================] - 0s 4ms/step - loss: 0.2195 - accuracy: 0.9173\n",
            "Epoch 196/200\n",
            "31/31 [==============================] - 0s 4ms/step - loss: 0.2260 - accuracy: 0.9224\n",
            "Epoch 197/200\n",
            "31/31 [==============================] - 0s 4ms/step - loss: 0.2115 - accuracy: 0.9234\n",
            "Epoch 198/200\n",
            "31/31 [==============================] - 0s 4ms/step - loss: 0.2152 - accuracy: 0.9152\n",
            "Epoch 199/200\n",
            "31/31 [==============================] - 0s 4ms/step - loss: 0.2091 - accuracy: 0.9265\n",
            "Epoch 200/200\n",
            "31/31 [==============================] - 0s 4ms/step - loss: 0.2200 - accuracy: 0.9213\n",
            "11/11 [==============================] - 0s 2ms/step - loss: 0.5157 - accuracy: 0.8287\n",
            "Loss: 0.5157036185264587, Accuracy: 0.8287461996078491\n"
          ]
        }
      ]
    },
    {
      "cell_type": "code",
      "source": [
        "from catboost import CatBoostClassifier\n",
        "from sklearn.metrics import accuracy_score\n",
        "\n",
        "# Initialize CatBoost classifier\n",
        "model_catboost = CatBoostClassifier(iterations=500, learning_rate=0.1, depth=6, loss_function='Logloss')\n",
        "\n",
        "# Train the model\n",
        "model_catboost.fit(full_train_scaled, y_train, eval_set=(full_test_scaled, y_test), verbose=False)\n",
        "\n",
        "# Make predictions\n",
        "y_pred = model_catboost.predict(full_test_scaled)\n",
        "\n",
        "# Evaluate model performance\n",
        "accuracy = accuracy_score(y_test, y_pred)\n",
        "print(\"Accuracy:\", accuracy)"
      ],
      "metadata": {
        "colab": {
          "base_uri": "https://localhost:8080/"
        },
        "id": "GQpHPKHsaCLD",
        "outputId": "19af83bc-a071-4ded-f275-8f14e7c77788"
      },
      "id": "GQpHPKHsaCLD",
      "execution_count": 117,
      "outputs": [
        {
          "output_type": "stream",
          "name": "stdout",
          "text": [
            "Accuracy: 0.8409785932721713\n"
          ]
        }
      ]
    },
    {
      "cell_type": "code",
      "source": [
        "# potential high-performance column sets from data evaluation stage\n",
        "col_sets = [\n",
        "    ['Pclass', 'Sex', 'Parch', 'Fare', 'Survived'],\n",
        "    ['Pclass', 'Sex', 'Age', 'SibSp', 'Parch', 'Fare', 'Embarked', 'Survived'],\n",
        "    ['Pclass', 'Sex', 'Age', 'SibSp', 'Fare', 'has_related', 'Survived'],\n",
        "    ['Pclass', 'Sex', 'Age', 'SibSp', 'num_related', 'Survived'],\n",
        "    ['Pclass', 'Sex', 'Fare', 'num_related', 'has_related', 'Survived'],\n",
        "    ['Pclass', 'Sex', 'Age', 'Fare', 'Survived'],\n",
        "    ['Pclass', 'Sex', 'Age', 'SibSp', 'Parch', 'num_related', 'has_related', 'has_special_ticket', 'Survived'],\n",
        "    ['Pclass', 'Sex', 'Age', 'Parch', 'Embarked', 'num_related', 'has_special_ticket', 'Survived'],\n",
        "    ['Pclass', 'Sex', 'SibSp', 'Parch', 'Fare', 'num_related', 'has_related', 'Survived'],\n",
        "    ['Pclass', 'Sex', 'Age', 'Parch', 'Fare', 'Embarked', 'Survived']\n",
        "]"
      ],
      "metadata": {
        "id": "WZ9my0KGaokc"
      },
      "id": "WZ9my0KGaokc",
      "execution_count": 118,
      "outputs": []
    },
    {
      "cell_type": "code",
      "source": [
        "# try cat boost on these column sets\n",
        "i = 0 # col set tracker\n",
        "for curr_set in col_sets:\n",
        "    # for each set, run the full process run above for the full set of cols\n",
        "    dummies = ['Pclass', 'Embarked', 'Sex']\n",
        "    X_tr,y_tr,X_te,y_te = FormatTitanicData(full_set, dummies, columns=curr_set)\n",
        "    curr_cat = CatBoostClassifier(iterations=500, learning_rate=0.1, depth=6, loss_function='Logloss')\n",
        "    curr_cat.fit(X_tr, y_tr, eval_set=(X_te, y_te), verbose=False)\n",
        "    y_predict = curr_cat.predict(X_te)\n",
        "    curr_acc = accuracy_score(y_te, y_predict)\n",
        "    print(f\"Accuracy {i}: {curr_acc}\")\n",
        "    i = i + 1"
      ],
      "metadata": {
        "colab": {
          "base_uri": "https://localhost:8080/"
        },
        "id": "iP3yg8AtbF1P",
        "outputId": "0c4dde8b-2bb1-412a-de6b-c0244b71aeb3"
      },
      "id": "iP3yg8AtbF1P",
      "execution_count": 119,
      "outputs": [
        {
          "output_type": "stream",
          "name": "stdout",
          "text": [
            "Accuracy 0: 0.8501529051987767\n",
            "Accuracy 1: 0.8501529051987767\n",
            "Accuracy 2: 0.8409785932721713\n",
            "Accuracy 3: 0.8440366972477065\n",
            "Accuracy 4: 0.8501529051987767\n",
            "Accuracy 5: 0.8379204892966361\n",
            "Accuracy 6: 0.8440366972477065\n",
            "Accuracy 7: 0.8409785932721713\n",
            "Accuracy 8: 0.8532110091743119\n",
            "Accuracy 9: 0.8440366972477065\n"
          ]
        }
      ]
    }
  ],
  "metadata": {
    "colab": {
      "provenance": []
    },
    "kernelspec": {
      "display_name": "Python 3 (ipykernel)",
      "language": "python",
      "name": "python3"
    },
    "language_info": {
      "codemirror_mode": {
        "name": "ipython",
        "version": 3
      },
      "file_extension": ".py",
      "mimetype": "text/x-python",
      "name": "python",
      "nbconvert_exporter": "python",
      "pygments_lexer": "ipython3",
      "version": "3.10.13"
    }
  },
  "nbformat": 4,
  "nbformat_minor": 5
}